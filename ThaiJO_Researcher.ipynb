{
  "nbformat": 4,
  "nbformat_minor": 0,
  "metadata": {
    "colab": {
      "provenance": [],
      "machine_shape": "hm",
      "mount_file_id": "1SRhiFTQJPehHkWd78Dc4mLERH1Ppn4IU",
      "authorship_tag": "ABX9TyN/yRyMLolimoCqdEU/Em/V",
      "include_colab_link": true
    },
    "kernelspec": {
      "name": "python3",
      "display_name": "Python 3"
    },
    "language_info": {
      "name": "python"
    }
  },
  "cells": [
    {
      "cell_type": "markdown",
      "metadata": {
        "id": "view-in-github",
        "colab_type": "text"
      },
      "source": [
        "<a href=\"https://colab.research.google.com/github/chogerlate/super-ai-ss4-hackathon/blob/main/ThaiJO_Researcher.ipynb\" target=\"_parent\"><img src=\"https://colab.research.google.com/assets/colab-badge.svg\" alt=\"Open In Colab\"/></a>"
      ]
    },
    {
      "cell_type": "markdown",
      "source": [
        "### Setup Gdrive connect"
      ],
      "metadata": {
        "id": "DCZFXQYx3XDE"
      }
    },
    {
      "cell_type": "code",
      "execution_count": 19,
      "metadata": {
        "id": "IQn6rlNX28Fo",
        "colab": {
          "base_uri": "https://localhost:8080/"
        },
        "outputId": "4a8ef031-5931-4fc8-e060-40d6b22700d1"
      },
      "outputs": [
        {
          "output_type": "stream",
          "name": "stdout",
          "text": [
            "Drive already mounted at /content/drive; to attempt to forcibly remount, call drive.mount(\"/content/drive\", force_remount=True).\n"
          ]
        }
      ],
      "source": [
        "from google.colab import drive\n",
        "drive.mount('/content/drive')"
      ]
    },
    {
      "cell_type": "markdown",
      "source": [
        "\n",
        "\n",
        "```\n",
        "# This is formatted as code\n",
        "```\n",
        "\n",
        "### Restart runtime"
      ],
      "metadata": {
        "id": "Y102kNTD57qH"
      }
    },
    {
      "cell_type": "code",
      "source": [
        "# # restart runtime\n",
        "# import os\n",
        "# os.kill(os.getpid(), 9)"
      ],
      "metadata": {
        "id": "ApDoxrRi6Cfs"
      },
      "execution_count": null,
      "outputs": []
    },
    {
      "cell_type": "markdown",
      "source": [
        "### Kaggle Connect"
      ],
      "metadata": {
        "id": "9M5dNy4B3yG9"
      }
    },
    {
      "cell_type": "markdown",
      "source": [
        "install"
      ],
      "metadata": {
        "id": "LNyCpKyL4EQz"
      }
    },
    {
      "cell_type": "code",
      "source": [
        "!pip install -q kaggle"
      ],
      "metadata": {
        "id": "jS50DcXR3xzh"
      },
      "execution_count": 20,
      "outputs": []
    },
    {
      "cell_type": "markdown",
      "source": [
        "Copy token and access kaggle"
      ],
      "metadata": {
        "id": "-DIUrS1D4KIZ"
      }
    },
    {
      "cell_type": "code",
      "source": [
        "# connect colab to kaggle through a saved token that store in my Gdrive\n",
        "# !rm -r ~/.kaggle\n",
        "!mkdir ~/.kaggle\n",
        "!cp /content/drive/MyDrive/colab/kaggle.json ~/.kaggle/\n",
        "!chmod 600 ~/.kaggle/kaggle.json\n",
        "!kaggle datasets list"
      ],
      "metadata": {
        "id": "2DUm9kqC35Pu",
        "colab": {
          "base_uri": "https://localhost:8080/"
        },
        "outputId": "5ff1ae81-0298-4e6e-cad6-b0a4c7a3a9a9"
      },
      "execution_count": 21,
      "outputs": [
        {
          "output_type": "stream",
          "name": "stdout",
          "text": [
            "mkdir: cannot create directory ‘/root/.kaggle’: File exists\n",
            "Warning: Looks like you're using an outdated API Version, please consider updating (server 1.6.5 / client 1.5.16)\n",
            "ref                                                        title                                              size  lastUpdated          downloadCount  voteCount  usabilityRating  \n",
            "---------------------------------------------------------  ------------------------------------------------  -----  -------------------  -------------  ---------  ---------------  \n",
            "nelgiriyewithana/apple-quality                             Apple Quality                                     170KB  2024-01-11 14:31:07          11679        273  1.0              \n",
            "kanchana1990/2024-amazon-best-sellers-top-valentine-gifts  2024 Amazon Best Sellers: Top Valentine Gifts 🎯💘   25KB  2024-02-06 18:49:26            525         31  1.0              \n",
            "asaniczka/mountain-climbing-accidents-dataset              Mountain Climbing Accidents Dataset                19KB  2024-02-07 23:54:04            344         25  1.0              \n",
            "hummaamqaasim/jobs-in-data                                 Jobs and Salaries in Data Science                  76KB  2023-12-25 20:03:32          16669        278  1.0              \n",
            "shiivvvaam/top-youtuber-worldwide                          Top YouTubers Worldwide                            83KB  2024-02-05 09:33:23            919         44  1.0              \n",
            "bhavikjikadara/loan-status-prediction                      Loan Status Prediction                              5KB  2024-02-02 13:27:20           1341         38  1.0              \n",
            "shiivvvaam/most-watched-movies-and-tv-shows                Most Watched Movies and TV Shows                    1MB  2024-02-04 19:19:18           1612         44  1.0              \n",
            "saketk511/2019-2024-us-stock-market-data                   2019-2024 US Stock Market Data                    155KB  2024-02-04 16:27:18           1339         32  1.0              \n",
            "asaniczka/video-game-sales-2024                            Video Game Sales 2024                               2MB  2024-01-29 15:58:39           2239         51  1.0              \n",
            "raj713335/tbo-hotels-dataset                               Hotels Dataset                                    395MB  2024-02-02 22:57:57            504         23  1.0              \n",
            "missionjee/car-sales-report                                Car Sales Report                                  657KB  2024-01-20 20:11:42           3601         64  1.0              \n",
            "nelgiriyewithana/emotions                                  Emotions                                           16MB  2024-02-05 16:01:39            677         51  1.0              \n",
            "cdeotte/brain-spectrograms                                 Brain-Spectrograms                                  3GB  2024-01-13 03:25:31            980        174  0.625            \n",
            "asaniczka/data-science-job-postings-and-skills             Data Science Job Postings & Skills (2024)          19MB  2024-02-06 12:31:34            704         32  1.0              \n",
            "nelgiriyewithana/new-york-housing-market                   New York Housing Market                           271KB  2024-01-06 16:41:00           5998        130  1.0              \n",
            "monkeybusiness7/marvel-cinematic-universe-box-office       Marvel Movie Box Office (MCU, Sony, Fox, Etc.)      9KB  2024-02-09 07:33:23            951         21  0.88235295       \n",
            "mrsimple07/salary-prediction-data                          Salary Prediction Data                             16KB  2024-02-05 17:19:49            651         32  1.0              \n",
            "shiivvvaam/indian-districts-population-data                Indian Districts Population Data                   46KB  2024-02-04 16:05:17            618         31  1.0              \n",
            "verracodeguacas/pii-deberta-models                         PII deberta models                                 15GB  2024-01-31 19:56:18            117         14  0.875            \n",
            "dansbecker/melbourne-housing-snapshot                      Melbourne Housing Snapshot                        451KB  2018-06-05 12:52:24         138032       1428  0.7058824        \n"
          ]
        }
      ]
    },
    {
      "cell_type": "markdown",
      "source": [
        "Download Dataset from kaggle"
      ],
      "metadata": {
        "id": "4GmWC4S64SoM"
      }
    },
    {
      "cell_type": "code",
      "source": [
        "!kaggle competitions download -c thaijo-researcher"
      ],
      "metadata": {
        "id": "L-D0b7QO4BtO",
        "colab": {
          "base_uri": "https://localhost:8080/"
        },
        "outputId": "4834a5f8-4b61-4589-9853-55b16c83629f"
      },
      "execution_count": 22,
      "outputs": [
        {
          "output_type": "stream",
          "name": "stdout",
          "text": [
            "thaijo-researcher.zip: Skipping, found more recently modified local copy (use --force to force download)\n"
          ]
        }
      ]
    },
    {
      "cell_type": "markdown",
      "source": [
        "Organizing our directory"
      ],
      "metadata": {
        "id": "__4eEDF04Ywb"
      }
    },
    {
      "cell_type": "code",
      "source": [
        "!mkdir kaggleData\n",
        "!unzip /content/thaijo-researcher.zip -d /content/kaggleData"
      ],
      "metadata": {
        "id": "q1nTH8dI4YRI",
        "colab": {
          "base_uri": "https://localhost:8080/"
        },
        "outputId": "2bcfa323-9f77-47bd-e9a4-4cb36d8bf2d8"
      },
      "execution_count": 23,
      "outputs": [
        {
          "output_type": "stream",
          "name": "stdout",
          "text": [
            "mkdir: cannot create directory ‘kaggleData’: File exists\n",
            "Archive:  /content/thaijo-researcher.zip\n",
            "replace /content/kaggleData/sample_submission.csv? [y]es, [n]o, [A]ll, [N]one, [r]ename: "
          ]
        }
      ]
    },
    {
      "cell_type": "markdown",
      "source": [
        "create prediction directory"
      ],
      "metadata": {
        "id": "bo_HEZqwKyXV"
      }
    },
    {
      "cell_type": "code",
      "source": [
        "!mkdir prediction"
      ],
      "metadata": {
        "id": "o-ldWNx0KwVi",
        "colab": {
          "base_uri": "https://localhost:8080/"
        },
        "outputId": "ec6891dd-5e71-474f-db37-6f38556bf9d7"
      },
      "execution_count": 24,
      "outputs": [
        {
          "output_type": "stream",
          "name": "stdout",
          "text": [
            "mkdir: cannot create directory ‘prediction’: File exists\n"
          ]
        }
      ]
    },
    {
      "cell_type": "markdown",
      "source": [
        "# Baseline Code 97"
      ],
      "metadata": {
        "id": "Sc34fo0sKZvA"
      }
    },
    {
      "cell_type": "code",
      "source": [
        "import pandas as pd\n",
        "import regex as re\n",
        "\n",
        "\n",
        "def remove_spaces(string):\n",
        "    if string == '':\n",
        "        return ''\n",
        "    elif string == ' ':\n",
        "        return ''\n",
        "    if string[0] == ' ':\n",
        "        string = string[1:]\n",
        "    if string[-1] == ' ':\n",
        "        string = string[:-1]\n",
        "    return string\n",
        "\n",
        "if __name__ == '__main__':\n",
        "    char = {'id': [], 'name': []}\n",
        "    df = pd.read_csv('kaggleData/test.csv')\n",
        "    df = df.fillna('')\n",
        "    for idx, row in df.iterrows():\n",
        "        names = []\n",
        "        char['id'].extend([f\"{row['_id']}_{i+1}\" for i in range(10)])\n",
        "        author = row['_source.author']\n",
        "        if author != '':\n",
        "            names.append(author)\n",
        "        co_author = row['_source.co-author']\n",
        "        if co_author != '':\n",
        "            ca = co_author.split(',')\n",
        "            for c in ca:\n",
        "                if c not in names:\n",
        "                    names.append(c)\n",
        "        if len(names) == 0:\n",
        "            char['name'].extend([None]*10)\n",
        "            continue\n",
        "        names = [remove_spaces(name) for name in names]\n",
        "        if len(names) > 10:\n",
        "            names = names[:10]\n",
        "        elif len(names) < 10:\n",
        "            names.extend(['']*(10-len(names)))\n",
        "        char['name'].extend(names)\n",
        "    char = pd.DataFrame(char)\n",
        "    char.to_csv('prediction/baseline.csv', index=False)"
      ],
      "metadata": {
        "id": "pHgjGQNyKbpC"
      },
      "execution_count": 25,
      "outputs": []
    },
    {
      "cell_type": "markdown",
      "source": [
        "# My version\n",
        "after I do some examination on the previous baseline result.\n",
        "this is what I found interesting:\n",
        "\n",
        "\n",
        "1. เรขา อรัญวงศ์ และคณะ\n",
        "2. ผศ.รังษี นันทสาร\n",
        "3. Prapaisri Sudasna-na-Ayudthya\n",
        "4. Russameeruk Noonuruk*\n",
        "5. Sorin V. Sabau\n",
        "6. 124056_1 Journal of Thai Traditional Alternative Medicine\n",
        "7. 123897_1 ผู้ทรงคุณวุฒิ -\n",
        "8. 123894_1 แนะนำผู้เขียน -\n",
        "9. ผู้ช่วยศาสตราจารย์ รัฐวุฒิ รู้แทนคุณ\n",
        "10. รองศาสตราจารย์ ดร.ประสพชัย พสุนนท์\n",
        "11. ผู้ทรงคุณวุฒิ -"
      ],
      "metadata": {
        "id": "67A2xklJLhHR"
      }
    },
    {
      "cell_type": "markdown",
      "source": [
        "check data"
      ],
      "metadata": {
        "id": "_COAO9ldrzpG"
      }
    },
    {
      "cell_type": "code",
      "source": [
        "df = pd.read_csv('kaggleData/test.csv')\n",
        "df"
      ],
      "metadata": {
        "colab": {
          "base_uri": "https://localhost:8080/",
          "height": 424
        },
        "id": "oWSSx9SzLg0W",
        "outputId": "e1bb5ae4-5fac-4f69-915e-f145e78dd59b"
      },
      "execution_count": null,
      "outputs": [
        {
          "output_type": "execute_result",
          "data": {
            "text/plain": [
              "      Unnamed: 0     _id           _source.author  \\\n",
              "0           1062    8449  ดวงรัตน์ วัฒนกิจไกรเลิศ   \n",
              "1           1063    8485          นิตญา ฤทธิ์เพชร   \n",
              "2           1064    8490   สุจิตราภรณ์ พิมพ์โพธิ์   \n",
              "3           1065    8507    ปรวรรรณ วิทย์วรานุกูล   \n",
              "4           1066    8460           ชนกพร จิตปัญญา   \n",
              "...          ...     ...                      ...   \n",
              "4725       15920  140582      สถิตย์พงษ์ วงศ์สง่า   \n",
              "4726       15921  142099      Pornwalai Boonmuang   \n",
              "4727       15922  140493     กองบรรณาธิการ วารสาร   \n",
              "4728       15923  140479     Wanna Viriyathavekul   \n",
              "4729       15924  141009            วิไล ศิลปอาชา   \n",
              "\n",
              "                                      _source.co-author  \n",
              "0     ดวงรัตน์ วัฒนกิจไกรเลิศ, ละเอียด จารุสมบัติ, ว...  \n",
              "1                       นิตญา ฤทธิ์เพชร, ชนกพร จิตปัญญา  \n",
              "2                สุจิตราภรณ์ พิมพ์โพธิ์, ชนกพร จิตปัญญา  \n",
              "3                 ปรวรรรณ วิทย์วรานุกูล, ชนกพร จิตปัญญา  \n",
              "4       ชนกพร จิตปัญญา, พูลสุข หิรัญสาย, สุชาต ไชยโรจน์  \n",
              "...                                                 ...  \n",
              "4725             สถิตย์พงษ์ วงศ์สง่า, อาภา สธนเสาวภาคย์  \n",
              "4726  Pornwalai Boonmuang, Wichai Santimaleeworagun,...  \n",
              "4727                               กองบรรณาธิการ วารสาร  \n",
              "4728                               Wanna Viriyathavekul  \n",
              "4729             วิไล ศิลปอาชา, ศิรพัชร์ ฌานเชาว์วรรธน์  \n",
              "\n",
              "[4730 rows x 4 columns]"
            ],
            "text/html": [
              "\n",
              "  <div id=\"df-b5f25062-7c06-413f-aa90-71721a7bd52e\" class=\"colab-df-container\">\n",
              "    <div>\n",
              "<style scoped>\n",
              "    .dataframe tbody tr th:only-of-type {\n",
              "        vertical-align: middle;\n",
              "    }\n",
              "\n",
              "    .dataframe tbody tr th {\n",
              "        vertical-align: top;\n",
              "    }\n",
              "\n",
              "    .dataframe thead th {\n",
              "        text-align: right;\n",
              "    }\n",
              "</style>\n",
              "<table border=\"1\" class=\"dataframe\">\n",
              "  <thead>\n",
              "    <tr style=\"text-align: right;\">\n",
              "      <th></th>\n",
              "      <th>Unnamed: 0</th>\n",
              "      <th>_id</th>\n",
              "      <th>_source.author</th>\n",
              "      <th>_source.co-author</th>\n",
              "    </tr>\n",
              "  </thead>\n",
              "  <tbody>\n",
              "    <tr>\n",
              "      <th>0</th>\n",
              "      <td>1062</td>\n",
              "      <td>8449</td>\n",
              "      <td>ดวงรัตน์ วัฒนกิจไกรเลิศ</td>\n",
              "      <td>ดวงรัตน์ วัฒนกิจไกรเลิศ, ละเอียด จารุสมบัติ, ว...</td>\n",
              "    </tr>\n",
              "    <tr>\n",
              "      <th>1</th>\n",
              "      <td>1063</td>\n",
              "      <td>8485</td>\n",
              "      <td>นิตญา ฤทธิ์เพชร</td>\n",
              "      <td>นิตญา ฤทธิ์เพชร, ชนกพร จิตปัญญา</td>\n",
              "    </tr>\n",
              "    <tr>\n",
              "      <th>2</th>\n",
              "      <td>1064</td>\n",
              "      <td>8490</td>\n",
              "      <td>สุจิตราภรณ์ พิมพ์โพธิ์</td>\n",
              "      <td>สุจิตราภรณ์ พิมพ์โพธิ์, ชนกพร จิตปัญญา</td>\n",
              "    </tr>\n",
              "    <tr>\n",
              "      <th>3</th>\n",
              "      <td>1065</td>\n",
              "      <td>8507</td>\n",
              "      <td>ปรวรรรณ วิทย์วรานุกูล</td>\n",
              "      <td>ปรวรรรณ วิทย์วรานุกูล, ชนกพร จิตปัญญา</td>\n",
              "    </tr>\n",
              "    <tr>\n",
              "      <th>4</th>\n",
              "      <td>1066</td>\n",
              "      <td>8460</td>\n",
              "      <td>ชนกพร จิตปัญญา</td>\n",
              "      <td>ชนกพร จิตปัญญา, พูลสุข หิรัญสาย, สุชาต ไชยโรจน์</td>\n",
              "    </tr>\n",
              "    <tr>\n",
              "      <th>...</th>\n",
              "      <td>...</td>\n",
              "      <td>...</td>\n",
              "      <td>...</td>\n",
              "      <td>...</td>\n",
              "    </tr>\n",
              "    <tr>\n",
              "      <th>4725</th>\n",
              "      <td>15920</td>\n",
              "      <td>140582</td>\n",
              "      <td>สถิตย์พงษ์ วงศ์สง่า</td>\n",
              "      <td>สถิตย์พงษ์ วงศ์สง่า, อาภา สธนเสาวภาคย์</td>\n",
              "    </tr>\n",
              "    <tr>\n",
              "      <th>4726</th>\n",
              "      <td>15921</td>\n",
              "      <td>142099</td>\n",
              "      <td>Pornwalai Boonmuang</td>\n",
              "      <td>Pornwalai Boonmuang, Wichai Santimaleeworagun,...</td>\n",
              "    </tr>\n",
              "    <tr>\n",
              "      <th>4727</th>\n",
              "      <td>15922</td>\n",
              "      <td>140493</td>\n",
              "      <td>กองบรรณาธิการ วารสาร</td>\n",
              "      <td>กองบรรณาธิการ วารสาร</td>\n",
              "    </tr>\n",
              "    <tr>\n",
              "      <th>4728</th>\n",
              "      <td>15923</td>\n",
              "      <td>140479</td>\n",
              "      <td>Wanna Viriyathavekul</td>\n",
              "      <td>Wanna Viriyathavekul</td>\n",
              "    </tr>\n",
              "    <tr>\n",
              "      <th>4729</th>\n",
              "      <td>15924</td>\n",
              "      <td>141009</td>\n",
              "      <td>วิไล ศิลปอาชา</td>\n",
              "      <td>วิไล ศิลปอาชา, ศิรพัชร์ ฌานเชาว์วรรธน์</td>\n",
              "    </tr>\n",
              "  </tbody>\n",
              "</table>\n",
              "<p>4730 rows × 4 columns</p>\n",
              "</div>\n",
              "    <div class=\"colab-df-buttons\">\n",
              "\n",
              "  <div class=\"colab-df-container\">\n",
              "    <button class=\"colab-df-convert\" onclick=\"convertToInteractive('df-b5f25062-7c06-413f-aa90-71721a7bd52e')\"\n",
              "            title=\"Convert this dataframe to an interactive table.\"\n",
              "            style=\"display:none;\">\n",
              "\n",
              "  <svg xmlns=\"http://www.w3.org/2000/svg\" height=\"24px\" viewBox=\"0 -960 960 960\">\n",
              "    <path d=\"M120-120v-720h720v720H120Zm60-500h600v-160H180v160Zm220 220h160v-160H400v160Zm0 220h160v-160H400v160ZM180-400h160v-160H180v160Zm440 0h160v-160H620v160ZM180-180h160v-160H180v160Zm440 0h160v-160H620v160Z\"/>\n",
              "  </svg>\n",
              "    </button>\n",
              "\n",
              "  <style>\n",
              "    .colab-df-container {\n",
              "      display:flex;\n",
              "      gap: 12px;\n",
              "    }\n",
              "\n",
              "    .colab-df-convert {\n",
              "      background-color: #E8F0FE;\n",
              "      border: none;\n",
              "      border-radius: 50%;\n",
              "      cursor: pointer;\n",
              "      display: none;\n",
              "      fill: #1967D2;\n",
              "      height: 32px;\n",
              "      padding: 0 0 0 0;\n",
              "      width: 32px;\n",
              "    }\n",
              "\n",
              "    .colab-df-convert:hover {\n",
              "      background-color: #E2EBFA;\n",
              "      box-shadow: 0px 1px 2px rgba(60, 64, 67, 0.3), 0px 1px 3px 1px rgba(60, 64, 67, 0.15);\n",
              "      fill: #174EA6;\n",
              "    }\n",
              "\n",
              "    .colab-df-buttons div {\n",
              "      margin-bottom: 4px;\n",
              "    }\n",
              "\n",
              "    [theme=dark] .colab-df-convert {\n",
              "      background-color: #3B4455;\n",
              "      fill: #D2E3FC;\n",
              "    }\n",
              "\n",
              "    [theme=dark] .colab-df-convert:hover {\n",
              "      background-color: #434B5C;\n",
              "      box-shadow: 0px 1px 3px 1px rgba(0, 0, 0, 0.15);\n",
              "      filter: drop-shadow(0px 1px 2px rgba(0, 0, 0, 0.3));\n",
              "      fill: #FFFFFF;\n",
              "    }\n",
              "  </style>\n",
              "\n",
              "    <script>\n",
              "      const buttonEl =\n",
              "        document.querySelector('#df-b5f25062-7c06-413f-aa90-71721a7bd52e button.colab-df-convert');\n",
              "      buttonEl.style.display =\n",
              "        google.colab.kernel.accessAllowed ? 'block' : 'none';\n",
              "\n",
              "      async function convertToInteractive(key) {\n",
              "        const element = document.querySelector('#df-b5f25062-7c06-413f-aa90-71721a7bd52e');\n",
              "        const dataTable =\n",
              "          await google.colab.kernel.invokeFunction('convertToInteractive',\n",
              "                                                    [key], {});\n",
              "        if (!dataTable) return;\n",
              "\n",
              "        const docLinkHtml = 'Like what you see? Visit the ' +\n",
              "          '<a target=\"_blank\" href=https://colab.research.google.com/notebooks/data_table.ipynb>data table notebook</a>'\n",
              "          + ' to learn more about interactive tables.';\n",
              "        element.innerHTML = '';\n",
              "        dataTable['output_type'] = 'display_data';\n",
              "        await google.colab.output.renderOutput(dataTable, element);\n",
              "        const docLink = document.createElement('div');\n",
              "        docLink.innerHTML = docLinkHtml;\n",
              "        element.appendChild(docLink);\n",
              "      }\n",
              "    </script>\n",
              "  </div>\n",
              "\n",
              "\n",
              "<div id=\"df-b36445fe-e2ef-4d91-884f-a314295f8c1c\">\n",
              "  <button class=\"colab-df-quickchart\" onclick=\"quickchart('df-b36445fe-e2ef-4d91-884f-a314295f8c1c')\"\n",
              "            title=\"Suggest charts\"\n",
              "            style=\"display:none;\">\n",
              "\n",
              "<svg xmlns=\"http://www.w3.org/2000/svg\" height=\"24px\"viewBox=\"0 0 24 24\"\n",
              "     width=\"24px\">\n",
              "    <g>\n",
              "        <path d=\"M19 3H5c-1.1 0-2 .9-2 2v14c0 1.1.9 2 2 2h14c1.1 0 2-.9 2-2V5c0-1.1-.9-2-2-2zM9 17H7v-7h2v7zm4 0h-2V7h2v10zm4 0h-2v-4h2v4z\"/>\n",
              "    </g>\n",
              "</svg>\n",
              "  </button>\n",
              "\n",
              "<style>\n",
              "  .colab-df-quickchart {\n",
              "      --bg-color: #E8F0FE;\n",
              "      --fill-color: #1967D2;\n",
              "      --hover-bg-color: #E2EBFA;\n",
              "      --hover-fill-color: #174EA6;\n",
              "      --disabled-fill-color: #AAA;\n",
              "      --disabled-bg-color: #DDD;\n",
              "  }\n",
              "\n",
              "  [theme=dark] .colab-df-quickchart {\n",
              "      --bg-color: #3B4455;\n",
              "      --fill-color: #D2E3FC;\n",
              "      --hover-bg-color: #434B5C;\n",
              "      --hover-fill-color: #FFFFFF;\n",
              "      --disabled-bg-color: #3B4455;\n",
              "      --disabled-fill-color: #666;\n",
              "  }\n",
              "\n",
              "  .colab-df-quickchart {\n",
              "    background-color: var(--bg-color);\n",
              "    border: none;\n",
              "    border-radius: 50%;\n",
              "    cursor: pointer;\n",
              "    display: none;\n",
              "    fill: var(--fill-color);\n",
              "    height: 32px;\n",
              "    padding: 0;\n",
              "    width: 32px;\n",
              "  }\n",
              "\n",
              "  .colab-df-quickchart:hover {\n",
              "    background-color: var(--hover-bg-color);\n",
              "    box-shadow: 0 1px 2px rgba(60, 64, 67, 0.3), 0 1px 3px 1px rgba(60, 64, 67, 0.15);\n",
              "    fill: var(--button-hover-fill-color);\n",
              "  }\n",
              "\n",
              "  .colab-df-quickchart-complete:disabled,\n",
              "  .colab-df-quickchart-complete:disabled:hover {\n",
              "    background-color: var(--disabled-bg-color);\n",
              "    fill: var(--disabled-fill-color);\n",
              "    box-shadow: none;\n",
              "  }\n",
              "\n",
              "  .colab-df-spinner {\n",
              "    border: 2px solid var(--fill-color);\n",
              "    border-color: transparent;\n",
              "    border-bottom-color: var(--fill-color);\n",
              "    animation:\n",
              "      spin 1s steps(1) infinite;\n",
              "  }\n",
              "\n",
              "  @keyframes spin {\n",
              "    0% {\n",
              "      border-color: transparent;\n",
              "      border-bottom-color: var(--fill-color);\n",
              "      border-left-color: var(--fill-color);\n",
              "    }\n",
              "    20% {\n",
              "      border-color: transparent;\n",
              "      border-left-color: var(--fill-color);\n",
              "      border-top-color: var(--fill-color);\n",
              "    }\n",
              "    30% {\n",
              "      border-color: transparent;\n",
              "      border-left-color: var(--fill-color);\n",
              "      border-top-color: var(--fill-color);\n",
              "      border-right-color: var(--fill-color);\n",
              "    }\n",
              "    40% {\n",
              "      border-color: transparent;\n",
              "      border-right-color: var(--fill-color);\n",
              "      border-top-color: var(--fill-color);\n",
              "    }\n",
              "    60% {\n",
              "      border-color: transparent;\n",
              "      border-right-color: var(--fill-color);\n",
              "    }\n",
              "    80% {\n",
              "      border-color: transparent;\n",
              "      border-right-color: var(--fill-color);\n",
              "      border-bottom-color: var(--fill-color);\n",
              "    }\n",
              "    90% {\n",
              "      border-color: transparent;\n",
              "      border-bottom-color: var(--fill-color);\n",
              "    }\n",
              "  }\n",
              "</style>\n",
              "\n",
              "  <script>\n",
              "    async function quickchart(key) {\n",
              "      const quickchartButtonEl =\n",
              "        document.querySelector('#' + key + ' button');\n",
              "      quickchartButtonEl.disabled = true;  // To prevent multiple clicks.\n",
              "      quickchartButtonEl.classList.add('colab-df-spinner');\n",
              "      try {\n",
              "        const charts = await google.colab.kernel.invokeFunction(\n",
              "            'suggestCharts', [key], {});\n",
              "      } catch (error) {\n",
              "        console.error('Error during call to suggestCharts:', error);\n",
              "      }\n",
              "      quickchartButtonEl.classList.remove('colab-df-spinner');\n",
              "      quickchartButtonEl.classList.add('colab-df-quickchart-complete');\n",
              "    }\n",
              "    (() => {\n",
              "      let quickchartButtonEl =\n",
              "        document.querySelector('#df-b36445fe-e2ef-4d91-884f-a314295f8c1c button');\n",
              "      quickchartButtonEl.style.display =\n",
              "        google.colab.kernel.accessAllowed ? 'block' : 'none';\n",
              "    })();\n",
              "  </script>\n",
              "</div>\n",
              "    </div>\n",
              "  </div>\n"
            ]
          },
          "metadata": {},
          "execution_count": 12
        }
      ]
    },
    {
      "cell_type": "code",
      "source": [
        "df.isnull().sum()"
      ],
      "metadata": {
        "colab": {
          "base_uri": "https://localhost:8080/"
        },
        "id": "llG0vF9MrVuH",
        "outputId": "9915742f-877d-4736-9bb6-c00395404eb0"
      },
      "execution_count": null,
      "outputs": [
        {
          "output_type": "execute_result",
          "data": {
            "text/plain": [
              "Unnamed: 0            0\n",
              "_id                   0\n",
              "_source.author       24\n",
              "_source.co-author    11\n",
              "dtype: int64"
            ]
          },
          "metadata": {},
          "execution_count": 17
        }
      ]
    },
    {
      "cell_type": "code",
      "source": [
        "exam_df = pd.read_csv(\"/content/kaggleData/sample_submission.csv\")\n",
        "exam_df"
      ],
      "metadata": {
        "colab": {
          "base_uri": "https://localhost:8080/",
          "height": 424
        },
        "id": "wlDFT4ruzUTy",
        "outputId": "dd799136-fc55-4f7c-c386-2527d72da4bd"
      },
      "execution_count": null,
      "outputs": [
        {
          "output_type": "execute_result",
          "data": {
            "text/plain": [
              "              id                     name\n",
              "0         8449_1  ดวงรัตน์ วัฒนกิจไกรเลิศ\n",
              "1         8449_2       ละเอียด จารุสมบัติ\n",
              "2         8449_3       วันเพ็ญ พิชิตพรชัย\n",
              "3         8449_4                      NaN\n",
              "4         8449_5                      NaN\n",
              "...          ...                      ...\n",
              "47295   141009_6                      NaN\n",
              "47296   141009_7                      NaN\n",
              "47297   141009_8                      NaN\n",
              "47298   141009_9                      NaN\n",
              "47299  141009_10                      NaN\n",
              "\n",
              "[47300 rows x 2 columns]"
            ],
            "text/html": [
              "\n",
              "  <div id=\"df-ca997af9-c754-4861-be48-f7b89904b6db\" class=\"colab-df-container\">\n",
              "    <div>\n",
              "<style scoped>\n",
              "    .dataframe tbody tr th:only-of-type {\n",
              "        vertical-align: middle;\n",
              "    }\n",
              "\n",
              "    .dataframe tbody tr th {\n",
              "        vertical-align: top;\n",
              "    }\n",
              "\n",
              "    .dataframe thead th {\n",
              "        text-align: right;\n",
              "    }\n",
              "</style>\n",
              "<table border=\"1\" class=\"dataframe\">\n",
              "  <thead>\n",
              "    <tr style=\"text-align: right;\">\n",
              "      <th></th>\n",
              "      <th>id</th>\n",
              "      <th>name</th>\n",
              "    </tr>\n",
              "  </thead>\n",
              "  <tbody>\n",
              "    <tr>\n",
              "      <th>0</th>\n",
              "      <td>8449_1</td>\n",
              "      <td>ดวงรัตน์ วัฒนกิจไกรเลิศ</td>\n",
              "    </tr>\n",
              "    <tr>\n",
              "      <th>1</th>\n",
              "      <td>8449_2</td>\n",
              "      <td>ละเอียด จารุสมบัติ</td>\n",
              "    </tr>\n",
              "    <tr>\n",
              "      <th>2</th>\n",
              "      <td>8449_3</td>\n",
              "      <td>วันเพ็ญ พิชิตพรชัย</td>\n",
              "    </tr>\n",
              "    <tr>\n",
              "      <th>3</th>\n",
              "      <td>8449_4</td>\n",
              "      <td>NaN</td>\n",
              "    </tr>\n",
              "    <tr>\n",
              "      <th>4</th>\n",
              "      <td>8449_5</td>\n",
              "      <td>NaN</td>\n",
              "    </tr>\n",
              "    <tr>\n",
              "      <th>...</th>\n",
              "      <td>...</td>\n",
              "      <td>...</td>\n",
              "    </tr>\n",
              "    <tr>\n",
              "      <th>47295</th>\n",
              "      <td>141009_6</td>\n",
              "      <td>NaN</td>\n",
              "    </tr>\n",
              "    <tr>\n",
              "      <th>47296</th>\n",
              "      <td>141009_7</td>\n",
              "      <td>NaN</td>\n",
              "    </tr>\n",
              "    <tr>\n",
              "      <th>47297</th>\n",
              "      <td>141009_8</td>\n",
              "      <td>NaN</td>\n",
              "    </tr>\n",
              "    <tr>\n",
              "      <th>47298</th>\n",
              "      <td>141009_9</td>\n",
              "      <td>NaN</td>\n",
              "    </tr>\n",
              "    <tr>\n",
              "      <th>47299</th>\n",
              "      <td>141009_10</td>\n",
              "      <td>NaN</td>\n",
              "    </tr>\n",
              "  </tbody>\n",
              "</table>\n",
              "<p>47300 rows × 2 columns</p>\n",
              "</div>\n",
              "    <div class=\"colab-df-buttons\">\n",
              "\n",
              "  <div class=\"colab-df-container\">\n",
              "    <button class=\"colab-df-convert\" onclick=\"convertToInteractive('df-ca997af9-c754-4861-be48-f7b89904b6db')\"\n",
              "            title=\"Convert this dataframe to an interactive table.\"\n",
              "            style=\"display:none;\">\n",
              "\n",
              "  <svg xmlns=\"http://www.w3.org/2000/svg\" height=\"24px\" viewBox=\"0 -960 960 960\">\n",
              "    <path d=\"M120-120v-720h720v720H120Zm60-500h600v-160H180v160Zm220 220h160v-160H400v160Zm0 220h160v-160H400v160ZM180-400h160v-160H180v160Zm440 0h160v-160H620v160ZM180-180h160v-160H180v160Zm440 0h160v-160H620v160Z\"/>\n",
              "  </svg>\n",
              "    </button>\n",
              "\n",
              "  <style>\n",
              "    .colab-df-container {\n",
              "      display:flex;\n",
              "      gap: 12px;\n",
              "    }\n",
              "\n",
              "    .colab-df-convert {\n",
              "      background-color: #E8F0FE;\n",
              "      border: none;\n",
              "      border-radius: 50%;\n",
              "      cursor: pointer;\n",
              "      display: none;\n",
              "      fill: #1967D2;\n",
              "      height: 32px;\n",
              "      padding: 0 0 0 0;\n",
              "      width: 32px;\n",
              "    }\n",
              "\n",
              "    .colab-df-convert:hover {\n",
              "      background-color: #E2EBFA;\n",
              "      box-shadow: 0px 1px 2px rgba(60, 64, 67, 0.3), 0px 1px 3px 1px rgba(60, 64, 67, 0.15);\n",
              "      fill: #174EA6;\n",
              "    }\n",
              "\n",
              "    .colab-df-buttons div {\n",
              "      margin-bottom: 4px;\n",
              "    }\n",
              "\n",
              "    [theme=dark] .colab-df-convert {\n",
              "      background-color: #3B4455;\n",
              "      fill: #D2E3FC;\n",
              "    }\n",
              "\n",
              "    [theme=dark] .colab-df-convert:hover {\n",
              "      background-color: #434B5C;\n",
              "      box-shadow: 0px 1px 3px 1px rgba(0, 0, 0, 0.15);\n",
              "      filter: drop-shadow(0px 1px 2px rgba(0, 0, 0, 0.3));\n",
              "      fill: #FFFFFF;\n",
              "    }\n",
              "  </style>\n",
              "\n",
              "    <script>\n",
              "      const buttonEl =\n",
              "        document.querySelector('#df-ca997af9-c754-4861-be48-f7b89904b6db button.colab-df-convert');\n",
              "      buttonEl.style.display =\n",
              "        google.colab.kernel.accessAllowed ? 'block' : 'none';\n",
              "\n",
              "      async function convertToInteractive(key) {\n",
              "        const element = document.querySelector('#df-ca997af9-c754-4861-be48-f7b89904b6db');\n",
              "        const dataTable =\n",
              "          await google.colab.kernel.invokeFunction('convertToInteractive',\n",
              "                                                    [key], {});\n",
              "        if (!dataTable) return;\n",
              "\n",
              "        const docLinkHtml = 'Like what you see? Visit the ' +\n",
              "          '<a target=\"_blank\" href=https://colab.research.google.com/notebooks/data_table.ipynb>data table notebook</a>'\n",
              "          + ' to learn more about interactive tables.';\n",
              "        element.innerHTML = '';\n",
              "        dataTable['output_type'] = 'display_data';\n",
              "        await google.colab.output.renderOutput(dataTable, element);\n",
              "        const docLink = document.createElement('div');\n",
              "        docLink.innerHTML = docLinkHtml;\n",
              "        element.appendChild(docLink);\n",
              "      }\n",
              "    </script>\n",
              "  </div>\n",
              "\n",
              "\n",
              "<div id=\"df-519e5dec-e4eb-42ab-8fde-6c180cf1a763\">\n",
              "  <button class=\"colab-df-quickchart\" onclick=\"quickchart('df-519e5dec-e4eb-42ab-8fde-6c180cf1a763')\"\n",
              "            title=\"Suggest charts\"\n",
              "            style=\"display:none;\">\n",
              "\n",
              "<svg xmlns=\"http://www.w3.org/2000/svg\" height=\"24px\"viewBox=\"0 0 24 24\"\n",
              "     width=\"24px\">\n",
              "    <g>\n",
              "        <path d=\"M19 3H5c-1.1 0-2 .9-2 2v14c0 1.1.9 2 2 2h14c1.1 0 2-.9 2-2V5c0-1.1-.9-2-2-2zM9 17H7v-7h2v7zm4 0h-2V7h2v10zm4 0h-2v-4h2v4z\"/>\n",
              "    </g>\n",
              "</svg>\n",
              "  </button>\n",
              "\n",
              "<style>\n",
              "  .colab-df-quickchart {\n",
              "      --bg-color: #E8F0FE;\n",
              "      --fill-color: #1967D2;\n",
              "      --hover-bg-color: #E2EBFA;\n",
              "      --hover-fill-color: #174EA6;\n",
              "      --disabled-fill-color: #AAA;\n",
              "      --disabled-bg-color: #DDD;\n",
              "  }\n",
              "\n",
              "  [theme=dark] .colab-df-quickchart {\n",
              "      --bg-color: #3B4455;\n",
              "      --fill-color: #D2E3FC;\n",
              "      --hover-bg-color: #434B5C;\n",
              "      --hover-fill-color: #FFFFFF;\n",
              "      --disabled-bg-color: #3B4455;\n",
              "      --disabled-fill-color: #666;\n",
              "  }\n",
              "\n",
              "  .colab-df-quickchart {\n",
              "    background-color: var(--bg-color);\n",
              "    border: none;\n",
              "    border-radius: 50%;\n",
              "    cursor: pointer;\n",
              "    display: none;\n",
              "    fill: var(--fill-color);\n",
              "    height: 32px;\n",
              "    padding: 0;\n",
              "    width: 32px;\n",
              "  }\n",
              "\n",
              "  .colab-df-quickchart:hover {\n",
              "    background-color: var(--hover-bg-color);\n",
              "    box-shadow: 0 1px 2px rgba(60, 64, 67, 0.3), 0 1px 3px 1px rgba(60, 64, 67, 0.15);\n",
              "    fill: var(--button-hover-fill-color);\n",
              "  }\n",
              "\n",
              "  .colab-df-quickchart-complete:disabled,\n",
              "  .colab-df-quickchart-complete:disabled:hover {\n",
              "    background-color: var(--disabled-bg-color);\n",
              "    fill: var(--disabled-fill-color);\n",
              "    box-shadow: none;\n",
              "  }\n",
              "\n",
              "  .colab-df-spinner {\n",
              "    border: 2px solid var(--fill-color);\n",
              "    border-color: transparent;\n",
              "    border-bottom-color: var(--fill-color);\n",
              "    animation:\n",
              "      spin 1s steps(1) infinite;\n",
              "  }\n",
              "\n",
              "  @keyframes spin {\n",
              "    0% {\n",
              "      border-color: transparent;\n",
              "      border-bottom-color: var(--fill-color);\n",
              "      border-left-color: var(--fill-color);\n",
              "    }\n",
              "    20% {\n",
              "      border-color: transparent;\n",
              "      border-left-color: var(--fill-color);\n",
              "      border-top-color: var(--fill-color);\n",
              "    }\n",
              "    30% {\n",
              "      border-color: transparent;\n",
              "      border-left-color: var(--fill-color);\n",
              "      border-top-color: var(--fill-color);\n",
              "      border-right-color: var(--fill-color);\n",
              "    }\n",
              "    40% {\n",
              "      border-color: transparent;\n",
              "      border-right-color: var(--fill-color);\n",
              "      border-top-color: var(--fill-color);\n",
              "    }\n",
              "    60% {\n",
              "      border-color: transparent;\n",
              "      border-right-color: var(--fill-color);\n",
              "    }\n",
              "    80% {\n",
              "      border-color: transparent;\n",
              "      border-right-color: var(--fill-color);\n",
              "      border-bottom-color: var(--fill-color);\n",
              "    }\n",
              "    90% {\n",
              "      border-color: transparent;\n",
              "      border-bottom-color: var(--fill-color);\n",
              "    }\n",
              "  }\n",
              "</style>\n",
              "\n",
              "  <script>\n",
              "    async function quickchart(key) {\n",
              "      const quickchartButtonEl =\n",
              "        document.querySelector('#' + key + ' button');\n",
              "      quickchartButtonEl.disabled = true;  // To prevent multiple clicks.\n",
              "      quickchartButtonEl.classList.add('colab-df-spinner');\n",
              "      try {\n",
              "        const charts = await google.colab.kernel.invokeFunction(\n",
              "            'suggestCharts', [key], {});\n",
              "      } catch (error) {\n",
              "        console.error('Error during call to suggestCharts:', error);\n",
              "      }\n",
              "      quickchartButtonEl.classList.remove('colab-df-spinner');\n",
              "      quickchartButtonEl.classList.add('colab-df-quickchart-complete');\n",
              "    }\n",
              "    (() => {\n",
              "      let quickchartButtonEl =\n",
              "        document.querySelector('#df-519e5dec-e4eb-42ab-8fde-6c180cf1a763 button');\n",
              "      quickchartButtonEl.style.display =\n",
              "        google.colab.kernel.accessAllowed ? 'block' : 'none';\n",
              "    })();\n",
              "  </script>\n",
              "</div>\n",
              "    </div>\n",
              "  </div>\n"
            ]
          },
          "metadata": {},
          "execution_count": 18
        }
      ]
    },
    {
      "cell_type": "code",
      "source": [
        "import pandas as pd\n",
        "import regex as re\n",
        "\n",
        "\n",
        "def remove_spaces(string):\n",
        "    if string == '':\n",
        "        return ''\n",
        "    elif string == ' ':\n",
        "        return ''\n",
        "    if string[0] == ' ':\n",
        "        string = string[1:]\n",
        "    if string[-1] == ' ':\n",
        "        string = string[:-1]\n",
        "    return string\n",
        "\n",
        "if __name__ == '__main__':\n",
        "    char = {'id': [], 'name': []}\n",
        "    df = pd.read_csv('kaggleData/test.csv')\n",
        "    df = df.fillna('')\n",
        "    for idx, row in df.iterrows():\n",
        "        names = []\n",
        "        char['id'].extend([f\"{row['_id']}_{i+1}\" for i in range(10)]) # create id for at most 10 person\n",
        "        author = row['_source.author']\n",
        "        if author != '': # empty\n",
        "            names.append(author)\n",
        "        co_author = row['_source.co-author']\n",
        "        if co_author != '':\n",
        "            ca = co_author.split(',')\n",
        "            for c in ca:\n",
        "                if c not in names:\n",
        "                    names.append(c)\n",
        "        if len(names) == 0:\n",
        "            char['name'].extend([None]*10)\n",
        "            continue\n",
        "        names = [remove_spaces(name) for name in names]\n",
        "        if len(names) > 10:\n",
        "            names = names[:10]\n",
        "        elif len(names) < 10:\n",
        "            names.extend(['']*(10-len(names)))\n",
        "        char['name'].extend(names)\n",
        "    char = pd.DataFrame(char)\n",
        "    char.to_csv('prediction/bseline.csv', index=False)"
      ],
      "metadata": {
        "id": "l3G9P3FGqtH1"
      },
      "execution_count": null,
      "outputs": []
    },
    {
      "cell_type": "markdown",
      "source": [
        "### submit"
      ],
      "metadata": {
        "id": "L3bZvOWg6MtZ"
      }
    },
    {
      "cell_type": "code",
      "source": [
        "# !kaggle competitions submit thaijo-researcher -f /content/prediction/bseline.csv -m \"baseline\""
      ],
      "metadata": {
        "id": "OdSIO_U-6JBF",
        "colab": {
          "base_uri": "https://localhost:8080/"
        },
        "outputId": "3bf7ff0d-83ae-43e4-b860-f655ff4daba7"
      },
      "execution_count": null,
      "outputs": [
        {
          "output_type": "stream",
          "name": "stdout",
          "text": [
            "Warning: Looks like you're using an outdated API Version, please consider updating (server 1.6.5 / client 1.5.16)\n",
            "100% 810k/810k [00:00<00:00, 1.07MB/s]\n",
            "Successfully submitted to ThaiJO RESEARCHER"
          ]
        }
      ]
    }
  ]
}